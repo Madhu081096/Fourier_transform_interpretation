{
 "cells": [
  {
   "cell_type": "code",
   "execution_count": 1,
   "metadata": {
    "ExecuteTime": {
     "end_time": "2020-08-09T15:56:54.446057Z",
     "start_time": "2020-08-09T15:56:50.632955Z"
    }
   },
   "outputs": [],
   "source": [
    "# Required packages\n",
    "%matplotlib qt\n",
    "import numpy as np\n",
    "import matplotlib.pyplot as plt\n",
    "import matplotlib"
   ]
  },
  {
   "cell_type": "markdown",
   "metadata": {},
   "source": [
    "# Plotting the sine and cos wave"
   ]
  },
  {
   "cell_type": "code",
   "execution_count": 2,
   "metadata": {
    "ExecuteTime": {
     "end_time": "2020-08-09T15:56:56.648120Z",
     "start_time": "2020-08-09T15:56:54.467063Z"
    }
   },
   "outputs": [
    {
     "name": "stdout",
     "output_type": "stream",
     "text": [
      "(50,)\n"
     ]
    }
   ],
   "source": [
    "# Plotting sine and cos curves\n",
    "a=np.linspace(0,2*np.pi,50)\n",
    "print(a.shape)\n",
    "b=np.sin(a) # sine wave\n",
    "c=np.cos(a) # cos wave\n",
    "plt.plot(a,b,label='sine')\n",
    "plt.plot(a,c,label='cosine')\n",
    "plt.xlabel('Time')\n",
    "plt.ylabel('Amplitude')\n",
    "plt.title('Sine and cosine wave')\n",
    "plt.legend()\n",
    "plt.show()"
   ]
  },
  {
   "cell_type": "markdown",
   "metadata": {},
   "source": [
    "# Understanding the impact of dot product"
   ]
  },
  {
   "cell_type": "code",
   "execution_count": 4,
   "metadata": {
    "ExecuteTime": {
     "end_time": "2020-08-09T15:57:01.946367Z",
     "start_time": "2020-08-09T15:57:01.816440Z"
    }
   },
   "outputs": [],
   "source": [
    "# Getting the dot product value of \n",
    "\n",
    "dp_same_sin=b*b\n",
    "dp_same_cos=c*c\n",
    "dp_cross=c*b\n",
    "plt.plot(a,dp_cross,label='Dot product of sine and cos fn -> '+str(round(np.sum(dp_cross),2)))\n",
    "plt.plot(a,dp_same_sin,label='Dot product of two sine fns -> '+str(round(np.sum(dp_same_sin),2)))\n",
    "plt.xlabel('Time')\n",
    "plt.ylabel('Amplitude')\n",
    "plt.title('Pointwise product of signals')\n",
    "plt.legend()\n",
    "plt.show()\n",
    "# plt.plot(a,dp_same_cos.squeeze())\n",
    "# plt.show()\n",
    "# print(np.sum(dp_same_cos))\n"
   ]
  },
  {
   "cell_type": "code",
   "execution_count": 4,
   "metadata": {
    "ExecuteTime": {
     "end_time": "2020-08-09T11:12:37.160946Z",
     "start_time": "2020-08-09T11:12:37.059006Z"
    }
   },
   "outputs": [],
   "source": []
  },
  {
   "cell_type": "markdown",
   "metadata": {},
   "source": [
    "# Finding the phase difference"
   ]
  },
  {
   "cell_type": "code",
   "execution_count": 9,
   "metadata": {
    "ExecuteTime": {
     "end_time": "2020-08-09T16:09:03.718407Z",
     "start_time": "2020-08-09T16:09:03.586484Z"
    }
   },
   "outputs": [],
   "source": [
    "phase=np.linspace(0,np.pi,50)\n",
    "phase_diff=np.zeros((50,1))\n",
    "for i in range(50):\n",
    "    signal=np.sin(a+ phase[i])# wave shifted by the angle of pi/3 = 60 degree\n",
    "    sin_signal= signal*b\n",
    "    cos_signal= signal*c\n",
    "    phase_diff[i]=np.arctan(-np.sum(sin_signal)/np.sum(cos_signal))\n",
    "plt.plot(phase,phase_diff)\n",
    "plt.xlabel('Actual phase added to sine wave')\n",
    "plt.ylabel('Phase calculated from FT')\n",
    "plt.title('Input (0 to $\\pi$) and Calculated phase')\n",
    "plt.show()"
   ]
  },
  {
   "cell_type": "code",
   "execution_count": 6,
   "metadata": {
    "ExecuteTime": {
     "end_time": "2020-08-09T16:05:02.843307Z",
     "start_time": "2020-08-09T16:05:02.837310Z"
    }
   },
   "outputs": [],
   "source": [
    "matplotlib.rc('xtick', labelsize=5) \n",
    "matplotlib.rc('ytick', labelsize=5) \n",
    "plt.rc('axes', titlesize=10)  "
   ]
  },
  {
   "cell_type": "code",
   "execution_count": 7,
   "metadata": {
    "ExecuteTime": {
     "end_time": "2020-08-09T16:05:03.570551Z",
     "start_time": "2020-08-09T16:05:03.334974Z"
    }
   },
   "outputs": [],
   "source": [
    "# Understanding the frequency response curve\n",
    "t=np.linspace(0,2*np.pi,50) \n",
    "x=np.sin(t)+np.cos(2*t)\n",
    "L=range(0,5) \n",
    "fig=plt.figure()\n",
    "for i in L:\n",
    "    y=np.sin(i*t)*x\n",
    "    fig.add_subplot(1,len(L),i+1)\n",
    "    res='Dot product '+str(round(sum(y), 2))\n",
    "    plt.title('sin f = '+str(i))\n",
    "    plt.xlabel(res)\n",
    "    plt.plot(t,y)  \n",
    "plt.show()"
   ]
  },
  {
   "cell_type": "code",
   "execution_count": 8,
   "metadata": {
    "ExecuteTime": {
     "end_time": "2020-08-09T16:05:21.103823Z",
     "start_time": "2020-08-09T16:05:20.758027Z"
    }
   },
   "outputs": [],
   "source": [
    "fig=plt.figure()\n",
    "for i in L:\n",
    "    y1=np.cos(i*t)*x\n",
    "    fig.add_subplot(1,len(L),i+1)\n",
    "    res='Dot product '+str(round(sum(y1), 5))\n",
    "    plt.title('cos f = '+str(i))\n",
    "    plt.xlabel(res)\n",
    "    plt.plot(t,y1)  \n",
    "plt.show()"
   ]
  },
  {
   "cell_type": "raw",
   "metadata": {},
   "source": []
  }
 ],
 "metadata": {
  "kernelspec": {
   "display_name": "Python 3",
   "language": "python",
   "name": "python3"
  },
  "language_info": {
   "codemirror_mode": {
    "name": "ipython",
    "version": 3
   },
   "file_extension": ".py",
   "mimetype": "text/x-python",
   "name": "python",
   "nbconvert_exporter": "python",
   "pygments_lexer": "ipython3",
   "version": "3.7.4"
  },
  "varInspector": {
   "cols": {
    "lenName": 16,
    "lenType": 16,
    "lenVar": 40
   },
   "kernels_config": {
    "python": {
     "delete_cmd_postfix": "",
     "delete_cmd_prefix": "del ",
     "library": "var_list.py",
     "varRefreshCmd": "print(var_dic_list())"
    },
    "r": {
     "delete_cmd_postfix": ") ",
     "delete_cmd_prefix": "rm(",
     "library": "var_list.r",
     "varRefreshCmd": "cat(var_dic_list()) "
    }
   },
   "types_to_exclude": [
    "module",
    "function",
    "builtin_function_or_method",
    "instance",
    "_Feature"
   ],
   "window_display": false
  }
 },
 "nbformat": 4,
 "nbformat_minor": 2
}
